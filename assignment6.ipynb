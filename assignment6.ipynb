{
 "cells": [
  {
   "cell_type": "markdown",
   "id": "11b7b089-2552-42a8-8b71-17b91750f698",
   "metadata": {},
   "source": [
    "1. Write a program to accept percentage from the user and display the grade according to the following criteria.\n"
   ]
  },
  {
   "cell_type": "code",
   "execution_count": 1,
   "id": "66d2d6fb-211d-436e-8df9-03fc191a8119",
   "metadata": {},
   "outputs": [
    {
     "name": "stdin",
     "output_type": "stream",
     "text": [
      "enter your marks 90\n"
     ]
    },
    {
     "name": "stdout",
     "output_type": "stream",
     "text": [
      "grade = B\n"
     ]
    }
   ],
   "source": [
    "#Ans:-\n",
    "\n",
    "marks = int(input(\"enter your marks\"))\n",
    "\n",
    "if marks>90:\n",
    "    print('grade = A')\n",
    "elif marks>80 and marks<=90:\n",
    "    print('grade = B')\n",
    "elif marks>=60 and marks<=80:\n",
    "    print('grade = C')\n",
    "elif marks<60:\n",
    "    print('grade = D')"
   ]
  },
  {
   "cell_type": "markdown",
   "id": "02b3b7bf-bca4-45e5-aa2e-253247eee8fd",
   "metadata": {},
   "source": [
    "2. Write a program to accept the cost price of a bike and display the road tax to be paid according to the following criteria."
   ]
  },
  {
   "cell_type": "code",
   "execution_count": 1,
   "id": "cb0713b8-6ea0-4315-9373-a41e3a3293e2",
   "metadata": {},
   "outputs": [
    {
     "name": "stdin",
     "output_type": "stream",
     "text": [
      "enter the cost price of the bike 120000\n"
     ]
    },
    {
     "name": "stdout",
     "output_type": "stream",
     "text": [
      "tax to be paid =  18000.0\n"
     ]
    }
   ],
   "source": [
    "cost_price = int(input('enter the cost price of the bike'))\n",
    "tax = 0\n",
    "if cost_price>100000:\n",
    "    tax = tax + (.15*cost_price)\n",
    "elif cost_price>50000 and cost_price<=100000:\n",
    "    tax = tax + (.10*cost_price)\n",
    "elif cost_price<=50000:\n",
    "    tax = tax + (.05*cost_price)\n",
    "print('tax to be paid = ',tax)"
   ]
  },
  {
   "cell_type": "markdown",
   "id": "42596edf-6d67-483f-95e7-73ce915f4095",
   "metadata": {},
   "source": [
    "3. Accept any city from the user and display monuments of that city.\n"
   ]
  },
  {
   "cell_type": "code",
   "execution_count": 5,
   "id": "8718eb68-5d25-4960-aee1-0186900d2871",
   "metadata": {},
   "outputs": [
    {
     "name": "stdin",
     "output_type": "stream",
     "text": [
      "enter your city agra\n"
     ]
    },
    {
     "ename": "NameError",
     "evalue": "name 'delhi' is not defined",
     "output_type": "error",
     "traceback": [
      "\u001b[0;31m---------------------------------------------------------------------------\u001b[0m",
      "\u001b[0;31mNameError\u001b[0m                                 Traceback (most recent call last)",
      "Cell \u001b[0;32mIn[5], line 3\u001b[0m\n\u001b[1;32m      1\u001b[0m city \u001b[38;5;241m=\u001b[39m \u001b[38;5;28minput\u001b[39m(\u001b[38;5;124m'\u001b[39m\u001b[38;5;124menter your city\u001b[39m\u001b[38;5;124m'\u001b[39m)\n\u001b[0;32m----> 3\u001b[0m \u001b[38;5;28;01mif\u001b[39;00m city \u001b[38;5;241m==\u001b[39m \u001b[43mdelhi\u001b[49m:\n\u001b[1;32m      4\u001b[0m     \u001b[38;5;28mprint\u001b[39m(\u001b[38;5;124m'\u001b[39m\u001b[38;5;124mmonument - Rad fort. You must visit there\u001b[39m\u001b[38;5;124m'\u001b[39m)\n\u001b[1;32m      5\u001b[0m \u001b[38;5;28;01melif\u001b[39;00m city \u001b[38;5;241m==\u001b[39m agra:\n",
      "\u001b[0;31mNameError\u001b[0m: name 'delhi' is not defined"
     ]
    }
   ],
   "source": [
    "city = input('enter your city')\n",
    "\n",
    "if city == delhi:\n",
    "    print('monument - Rad fort. You must visit there')\n",
    "elif city == agra:\n",
    "    print('monument - taj mahal. You must visit there')\n",
    "elif city == jaipur:\n",
    "    print('monument - jal mahal. You must visit there')\n",
    "else :\n",
    "    print('visit delhi or agra or jaiput')"
   ]
  },
  {
   "cell_type": "markdown",
   "id": "e1d7428d-e8cb-4d85-9399-dd56992c7633",
   "metadata": {},
   "source": [
    "4. Check how many times a given number can be divided by 3 before it is less than or equal to 10."
   ]
  },
  {
   "cell_type": "code",
   "execution_count": 10,
   "id": "0b2644b1-22d5-4208-a125-c43efbc0e56a",
   "metadata": {},
   "outputs": [
    {
     "name": "stdin",
     "output_type": "stream",
     "text": [
      "enter the number 99\n"
     ]
    },
    {
     "name": "stdout",
     "output_type": "stream",
     "text": [
      "2\n"
     ]
    }
   ],
   "source": [
    "n = int(input('enter the number'))\n",
    "count = 0\n",
    "while n>10:\n",
    "    n=n/3\n",
    "    count=count+1\n",
    "print(count-1)"
   ]
  },
  {
   "cell_type": "markdown",
   "id": "3ba08a69-2fc0-40d2-941c-d4ef9836a06b",
   "metadata": {},
   "source": [
    "5. Why and when to use while loop in python give a detailed description with example."
   ]
  },
  {
   "cell_type": "code",
   "execution_count": 13,
   "id": "bdeba533-ecbf-42e4-a950-2706568563bb",
   "metadata": {},
   "outputs": [
    {
     "name": "stdout",
     "output_type": "stream",
     "text": [
      "1\n",
      "2\n",
      "3\n",
      "4\n",
      "5\n"
     ]
    }
   ],
   "source": [
    "'Ans:- Python while loop is used to run a block code until a certain condition is met.'\n",
    "i = 1\n",
    "n = 5\n",
    "\n",
    "while i <= n:\n",
    "    print(i)\n",
    "    i = i + 1"
   ]
  },
  {
   "cell_type": "markdown",
   "id": "b70d37af-fde7-4c8e-81fe-61f8e9f4a5cc",
   "metadata": {},
   "source": [
    "16. Use nested while loop to print 3 different pattern."
   ]
  },
  {
   "cell_type": "code",
   "execution_count": 14,
   "id": "b0716f6d-8f7f-43a9-90b1-447452f05c7c",
   "metadata": {},
   "outputs": [
    {
     "name": "stdout",
     "output_type": "stream",
     "text": [
      "1 \n",
      "1 2 \n",
      "1 2 3 \n",
      "1 2 3 4 \n",
      "1 2 3 4 5 \n"
     ]
    }
   ],
   "source": [
    "i=1\n",
    "while i<=5:\n",
    "    j=1\n",
    "    while j<=i:\n",
    "        print(j,end=\" \")\n",
    "        j=j+1\n",
    "    print(\"\")\n",
    "    i=i+1"
   ]
  },
  {
   "cell_type": "code",
   "execution_count": 15,
   "id": "033dbd48-af13-4baf-b49d-ce1021631df6",
   "metadata": {},
   "outputs": [
    {
     "name": "stdout",
     "output_type": "stream",
     "text": [
      "*****\n",
      "****\n",
      "***\n",
      "**\n",
      "*\n"
     ]
    }
   ],
   "source": [
    "i = 5\n",
    "while i >= 1:\n",
    "    j = 1\n",
    "    while j <= i:\n",
    "        print(\"*\", end=\"\")\n",
    "        j += 1\n",
    "    print(\"\")\n",
    "    i -= 1\n",
    "    "
   ]
  },
  {
   "cell_type": "code",
   "execution_count": 16,
   "id": "b315d387-4abe-4c66-8612-4e309c8c3af5",
   "metadata": {},
   "outputs": [
    {
     "name": "stdout",
     "output_type": "stream",
     "text": [
      "1 \n",
      "0 1 \n",
      "1 0 1 \n",
      "0 1 0 1 \n",
      "1 0 1 0 1 \n"
     ]
    }
   ],
   "source": [
    "i = 1\n",
    "while i <= 5:\n",
    "    j = 1\n",
    "    while j <= i:\n",
    "        if (i + j) % 2 == 0:\n",
    "            print(\"1\", end=\" \")\n",
    "        else:\n",
    "            print(\"0\", end=\" \")\n",
    "        j += 1\n",
    "    print(\"\")\n",
    "    i += 1\n",
    "    "
   ]
  },
  {
   "cell_type": "markdown",
   "id": "4c0f2712-b20a-47dc-b113-daae8e363de0",
   "metadata": {},
   "source": [
    "7. Reverse a while loop to display numbers 10 to 1."
   ]
  },
  {
   "cell_type": "code",
   "execution_count": null,
   "id": "37275849-2667-4e49-87d7-6101bbab217c",
   "metadata": {},
   "outputs": [],
   "source": []
  }
 ],
 "metadata": {
  "kernelspec": {
   "display_name": "Python 3 (ipykernel)",
   "language": "python",
   "name": "python3"
  },
  "language_info": {
   "codemirror_mode": {
    "name": "ipython",
    "version": 3
   },
   "file_extension": ".py",
   "mimetype": "text/x-python",
   "name": "python",
   "nbconvert_exporter": "python",
   "pygments_lexer": "ipython3",
   "version": "3.10.8"
  }
 },
 "nbformat": 4,
 "nbformat_minor": 5
}
